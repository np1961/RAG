{
 "cells": [
  {
   "cell_type": "code",
   "execution_count": null,
   "id": "6ab78770",
   "metadata": {},
   "outputs": [],
   "source": []
  },
  {
   "cell_type": "code",
   "execution_count": 62,
   "id": "501318ac",
   "metadata": {},
   "outputs": [],
   "source": [
    "\n",
    "import sys\n",
    "from os import environ\n",
    "sys.path.append(\"./config/utils\")\n",
    "\n",
    "from langchain_openai import OpenAIEmbeddings\n",
    "from langchain_milvus.vectorstores import Milvus\n",
    "\n",
    "from langchain_openai.chat_models import ChatOpenAI\n",
    "from langchain.chains import RetrievalQA\n",
    "from langchain.chains import ConversationalRetrievalChain\n",
    "\n",
    "\n",
    "\n",
    "from MilvusControll import embeddings\n",
    "from MilvusControll import OPENAI_API_KEY\n",
    "from Terminal import terminal_write"
   ]
  },
  {
   "cell_type": "code",
   "execution_count": null,
   "id": "dacd4a73",
   "metadata": {},
   "outputs": [],
   "source": []
  },
  {
   "cell_type": "code",
   "execution_count": null,
   "id": "a4c522a7",
   "metadata": {},
   "outputs": [],
   "source": []
  },
  {
   "cell_type": "code",
   "execution_count": null,
   "id": "729e02fc",
   "metadata": {},
   "outputs": [],
   "source": []
  },
  {
   "cell_type": "code",
   "execution_count": 63,
   "id": "1f20e146",
   "metadata": {},
   "outputs": [],
   "source": [
    "vectorstore=Milvus(embeddings,collection_name='docs')"
   ]
  },
  {
   "cell_type": "code",
   "execution_count": null,
   "id": "40ec9a6c",
   "metadata": {},
   "outputs": [],
   "source": []
  },
  {
   "cell_type": "code",
   "execution_count": 64,
   "id": "9a86a57f",
   "metadata": {},
   "outputs": [],
   "source": [
    "retriever=vectorstore.as_retriever(search_kwargs=dict(k=5))"
   ]
  },
  {
   "cell_type": "code",
   "execution_count": 65,
   "id": "1a13d444",
   "metadata": {},
   "outputs": [],
   "source": [
    "ids=[document.metadata['id'] for document in retriever.invoke('what 132')]"
   ]
  },
  {
   "cell_type": "code",
   "execution_count": 66,
   "id": "424b6ef2",
   "metadata": {},
   "outputs": [
    {
     "data": {
      "text/plain": [
       "['f33ae36f-f785-4ccc-96d3-47c534eb1d93',\n",
       " 'a29a2ed9-49d3-4dce-9ece-d17b9d052ceb',\n",
       " '979d539e-8c4f-476f-b2d9-86e2fd8f2920',\n",
       " '4bac359e-9fe0-4da5-9632-205ee5a5771d',\n",
       " '382a4fa1-846a-4cfe-bcd8-48c231cf8215']"
      ]
     },
     "execution_count": 66,
     "metadata": {},
     "output_type": "execute_result"
    }
   ],
   "source": [
    "ids"
   ]
  },
  {
   "cell_type": "code",
   "execution_count": null,
   "id": "e2e0b433",
   "metadata": {},
   "outputs": [],
   "source": []
  },
  {
   "cell_type": "code",
   "execution_count": null,
   "id": "f621f96c",
   "metadata": {
    "scrolled": true
   },
   "outputs": [],
   "source": []
  },
  {
   "cell_type": "code",
   "execution_count": null,
   "id": "ad4e22d4",
   "metadata": {},
   "outputs": [],
   "source": []
  },
  {
   "cell_type": "code",
   "execution_count": null,
   "id": "4066e50c",
   "metadata": {},
   "outputs": [],
   "source": []
  },
  {
   "cell_type": "code",
   "execution_count": 22,
   "id": "d5e95321",
   "metadata": {},
   "outputs": [],
   "source": [
    "# USPERT\n",
    "# vectorstore.upsert\n",
    "\n",
    "#DELETE\n",
    "# vector_db.delete"
   ]
  },
  {
   "cell_type": "code",
   "execution_count": null,
   "id": "cf172957",
   "metadata": {},
   "outputs": [],
   "source": []
  },
  {
   "cell_type": "code",
   "execution_count": 23,
   "id": "06f25dd5",
   "metadata": {},
   "outputs": [],
   "source": [
    "ids=[document.metadata['id'] for document in retriever.invoke('what 132')]"
   ]
  },
  {
   "cell_type": "code",
   "execution_count": 24,
   "id": "b5ead1ac",
   "metadata": {},
   "outputs": [
    {
     "data": {
      "text/plain": [
       "(insert count: 0, delete count: 0, upsert count: 0, timestamp: 0, success count: 0, err count: 0, cost: 0)"
      ]
     },
     "execution_count": 24,
     "metadata": {},
     "output_type": "execute_result"
    }
   ],
   "source": [
    "vectorstore.delete(ids=ids)"
   ]
  },
  {
   "cell_type": "code",
   "execution_count": null,
   "id": "b26b8e55",
   "metadata": {},
   "outputs": [],
   "source": []
  },
  {
   "cell_type": "code",
   "execution_count": null,
   "id": "b6ec20ad",
   "metadata": {},
   "outputs": [],
   "source": []
  },
  {
   "cell_type": "code",
   "execution_count": null,
   "id": "19551032",
   "metadata": {},
   "outputs": [],
   "source": []
  },
  {
   "cell_type": "code",
   "execution_count": 25,
   "id": "0494b410",
   "metadata": {},
   "outputs": [],
   "source": [
    "documents=retriever.invoke('what 132')"
   ]
  },
  {
   "cell_type": "code",
   "execution_count": 26,
   "id": "44ea5e82",
   "metadata": {
    "scrolled": true
   },
   "outputs": [
    {
     "data": {
      "text/plain": [
       "['f33ae36f-f785-4ccc-96d3-47c534eb1d93',\n",
       " 'a29a2ed9-49d3-4dce-9ece-d17b9d052ceb',\n",
       " '979d539e-8c4f-476f-b2d9-86e2fd8f2920',\n",
       " '4bac359e-9fe0-4da5-9632-205ee5a5771d',\n",
       " '382a4fa1-846a-4cfe-bcd8-48c231cf8215']"
      ]
     },
     "execution_count": 26,
     "metadata": {},
     "output_type": "execute_result"
    }
   ],
   "source": [
    "ids=[document.metadata['id'] for document in documents]\n",
    "ids"
   ]
  },
  {
   "cell_type": "code",
   "execution_count": 27,
   "id": "6453fee3",
   "metadata": {},
   "outputs": [
    {
     "data": {
      "text/plain": [
       "[Document(metadata={'id': 'f33ae36f-f785-4ccc-96d3-47c534eb1d93', 'source': 'docs/school_informations.txt'}, page_content='School 130|||Armenia, Yerevan, Hakob Hakobyan St. Lane, 3 Building (Arabkir adm. district)\\nSchool 131|||Armenia, Yerevan, Arzumanyan St., 22 Building (Ajapnyak adm. district)\\nSchool 132|||Armenia, Yerevan, Aram Khachatryan St., 28 Building (Arabkir adm. district)\\nSchool 133|||Armenia, Yerevan, Nor Nork 2nd Block, Moldovakan St., 35 Building (Nor Nork adm. district)\\nSchool 134|||Armenia, Yerevan, Nor Nork 1st Block, Nanseni St., 14 Building (Nor Nork adm. district)'),\n",
       " Document(metadata={'id': 'a29a2ed9-49d3-4dce-9ece-d17b9d052ceb', 'source': 'docs/school_informations.txt'}, page_content='School 134|||Armenia, Yerevan, Nor Nork 1st Block, Nanseni St., 14 Building (Nor Nork adm. district)\\nSchool 135|||Armenia, Yerevan, Nor Nork 2nd Block, Nelson Stepanyan St., 5 Building (Nor Nork adm. district)\\nSchool 136|||Armenia, Yerevan, Lepsiusi St., 6 Building (Kanaker-Zeytun adm. district)\\nSchool 137|||Armenia, Yerevan, Tarontsu St., 17 Building (Shengavit adm. district)\\nSchool 138|||Armenia, Yerevan, Margaryan St., 30a Building (Ajapnyak adm. district)'),\n",
       " Document(metadata={'id': '979d539e-8c4f-476f-b2d9-86e2fd8f2920', 'source': 'docs/school_informations.txt'}, page_content='School 125|||Armenia, Yerevan, Paruyr Sevaki St., 89 Building (Kanaker-Zeytun adm. district)\\nSchool 126|||Armenia, Yerevan, Estonakan St., 8a Building (Ajapnyak adm. district)\\nSchool 128|||Armenia, Yerevan, Azatutyan Ave., 5 Building (Arabkir adm. district)\\nSchool 129|||Armenia, Yerevan, Hrachya Kochari St., 29 Building (Arabkir adm. district)\\nSchool 130|||Armenia, Yerevan, Hakob Hakobyan St. Lane, 3 Building (Arabkir adm. district)'),\n",
       " Document(metadata={'id': '4bac359e-9fe0-4da5-9632-205ee5a5771d', 'source': 'docs/school_informations.txt'}, page_content='School 121|||Armenia, Yerevan, Tichinai St. 2nd Lane, 121 Building (Malatia-Sebastia adm. district)\\nSchool 122|||Armenia, Yerevan, Arzumanyan St., 5 Building (Ajapnyak adm. district)\\nSchool 123|||Armenia, Yerevan, Nor Aresh, 35th St., 2 Building (Erebuni adm. district)\\nSchool 124|||Armenia, Yerevan, Acharyan St. 1st Blind Alley, 15 Building (Avan adm. district)\\nSchool 125|||Armenia, Yerevan, Paruyr Sevaki St., 89 Building (Kanaker-Zeytun adm. district)'),\n",
       " Document(metadata={'id': '382a4fa1-846a-4cfe-bcd8-48c231cf8215', 'source': 'docs/school_informations.txt'}, page_content='School 138|||Armenia, Yerevan, Margaryan St., 30a Building (Ajapnyak adm. district)\\nSchool 140|||Armenia, Yerevan, Noragavit, 1st St., 99 House (Shengavit adm. district)\\nSchool 141|||Armenia, Yerevan, Nor Nork 4th Block, Gyulikekhvyan St., 27 Building (Nor Nork adm. district)\\nSchool 143|||Armenia, Yerevan, Nor Nork 3rd Block, Baghyan St., 5 Building (Nor Nork adm. district)\\nSchool 144|||Armenia, Yerevan, Verin Shengavit, 2nd St., 9 Building (Shengavit adm. district)')]"
      ]
     },
     "execution_count": 27,
     "metadata": {},
     "output_type": "execute_result"
    }
   ],
   "source": [
    "documents"
   ]
  },
  {
   "cell_type": "code",
   "execution_count": null,
   "id": "9b42e46d",
   "metadata": {},
   "outputs": [],
   "source": []
  },
  {
   "cell_type": "code",
   "execution_count": 27,
   "id": "171dbe98",
   "metadata": {},
   "outputs": [],
   "source": []
  },
  {
   "cell_type": "code",
   "execution_count": null,
   "id": "f887e2df",
   "metadata": {},
   "outputs": [],
   "source": []
  },
  {
   "cell_type": "code",
   "execution_count": null,
   "id": "fcd627e2",
   "metadata": {},
   "outputs": [],
   "source": []
  },
  {
   "cell_type": "code",
   "execution_count": 67,
   "id": "9f8f78d9",
   "metadata": {},
   "outputs": [],
   "source": [
    "llm=ChatOpenAI(api_key=OPENAI_API_KEY, model = 'gpt-3.5-turbo')\n",
    "retriever=vectorstore.as_retriever(search_kwargs=dict(k=5))\n",
    "retrieval_qa=RetrievalQA.from_chain_type(llm=llm, retriever=retriever, return_source_documents=False)"
   ]
  },
  {
   "cell_type": "code",
   "execution_count": 70,
   "id": "6971799d",
   "metadata": {},
   "outputs": [],
   "source": [
    "queries=['what 132 school', 'what 76 ']"
   ]
  },
  {
   "cell_type": "code",
   "execution_count": 71,
   "id": "59cf51e7",
   "metadata": {},
   "outputs": [
    {
     "data": {
      "text/plain": [
       "{'query': 'what 132 school',\n",
       " 'result': 'School 132 is located at Armenia, Yerevan, Aram Khachatryan St., 28 Building in the Arabkir administrative district.'}"
      ]
     },
     "execution_count": 71,
     "metadata": {},
     "output_type": "execute_result"
    }
   ],
   "source": [
    "retrieval_qa({'query':queries[0]})"
   ]
  },
  {
   "cell_type": "code",
   "execution_count": null,
   "id": "c763867b",
   "metadata": {},
   "outputs": [],
   "source": []
  },
  {
   "cell_type": "code",
   "execution_count": null,
   "id": "c1e5bddc",
   "metadata": {},
   "outputs": [],
   "source": []
  },
  {
   "cell_type": "code",
   "execution_count": null,
   "id": "ba6f0dba",
   "metadata": {},
   "outputs": [],
   "source": []
  },
  {
   "cell_type": "code",
   "execution_count": 73,
   "id": "d682688d",
   "metadata": {},
   "outputs": [],
   "source": [
    "conversation_retrieval=ConversationalRetrievalChain.from_llm(\n",
    "                                    llm=ChatOpenAI(temperature=0.8, model = 'gpt-3.5-turbo'),\n",
    "                                    retriever=retriever,\n",
    "                                    return_source_documents=True,\n",
    "                                                            )"
   ]
  },
  {
   "cell_type": "code",
   "execution_count": null,
   "id": "2a2cbf50",
   "metadata": {},
   "outputs": [],
   "source": []
  },
  {
   "cell_type": "code",
   "execution_count": 74,
   "id": "6dec0e55",
   "metadata": {},
   "outputs": [
    {
     "name": "stdout",
     "output_type": "stream",
     "text": [
      "question ---> what 132\n",
      "\u001b[39m\u001b[49manswer ---> School 132 is located in Armenia, Yerevan, Aram Khachatryan St., building 28 in the Arabkir administrative district.\n",
      "question ---> на русском\n",
      "\u001b[39m\u001b[49manswer ---> Школа 132 в Ереване расположена по адресу: Армения, Ереван, улица Арама Хачатряна, дом 28, в административном районе Арабкир.\n",
      "question ---> OFF\n"
     ]
    }
   ],
   "source": [
    "chat_history=[]\n",
    "while True:\n",
    "    question=input(\"question ---> \")\n",
    "    if question =='OFF':\n",
    "        break\n",
    "    \n",
    "    response = conversation_retrieval(dict(\n",
    "                            question=question, \n",
    "                            chat_history=chat_history)\n",
    "                                )\n",
    "    answer=response['answer']\n",
    "    terminal_write(f\"answer ---> {answer}\")\n",
    "    chat_history.append( (question, answer) )\n",
    "    "
   ]
  },
  {
   "cell_type": "code",
   "execution_count": null,
   "id": "ae392217",
   "metadata": {},
   "outputs": [],
   "source": []
  },
  {
   "cell_type": "code",
   "execution_count": null,
   "id": "a963c9bf",
   "metadata": {},
   "outputs": [],
   "source": []
  }
 ],
 "metadata": {
  "kernelspec": {
   "display_name": "Python 3 (ipykernel)",
   "language": "python",
   "name": "python3"
  },
  "language_info": {
   "codemirror_mode": {
    "name": "ipython",
    "version": 3
   },
   "file_extension": ".py",
   "mimetype": "text/x-python",
   "name": "python",
   "nbconvert_exporter": "python",
   "pygments_lexer": "ipython3",
   "version": "3.11.9"
  }
 },
 "nbformat": 4,
 "nbformat_minor": 5
}
