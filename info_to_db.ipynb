{
 "cells": [
  {
   "cell_type": "code",
   "execution_count": null,
   "id": "2269cde4",
   "metadata": {},
   "outputs": [],
   "source": []
  },
  {
   "cell_type": "markdown",
   "id": "4d5874b9",
   "metadata": {},
   "source": [
    "# !pip install --upgrade -r ./config/requirements.txt\n",
    "# !python3 -m pip install milvus milvus[client] pymilvus[model]\n",
    "# Run `python3` in your terminal to operate in the Python interactive mode.\n"
   ]
  },
  {
   "cell_type": "code",
   "execution_count": null,
   "id": "f9c5d20d",
   "metadata": {},
   "outputs": [],
   "source": []
  },
  {
   "cell_type": "code",
   "execution_count": null,
   "id": "cdc131ba",
   "metadata": {},
   "outputs": [],
   "source": []
  },
  {
   "cell_type": "code",
   "execution_count": null,
   "id": "8f11c3e7",
   "metadata": {},
   "outputs": [],
   "source": []
  },
  {
   "cell_type": "code",
   "execution_count": null,
   "id": "a0129798",
   "metadata": {},
   "outputs": [],
   "source": []
  },
  {
   "cell_type": "code",
   "execution_count": 1,
   "id": "cc985142",
   "metadata": {
    "scrolled": true
   },
   "outputs": [],
   "source": [
    "\n",
    "import sys\n",
    "from os import environ\n",
    "sys.path.append(\"./config/utils\")\n",
    "\n",
    "\n",
    "\n",
    "\n",
    "import numpy as np\n",
    "import pandas as pd\n",
    "\n",
    "from langchain_openai import OpenAIEmbeddings\n",
    "\n",
    "\n",
    "from langchain_community.vectorstores import Chroma\n",
    "from langchain_community.vectorstores import Milvus\n",
    "\n",
    "from pymilvus import (MilvusClient,\n",
    "                      CollectionSchema,\n",
    "                      FieldSchema,\n",
    "                      DataType,\n",
    "                      utility,\n",
    "                      db,\n",
    "                      connections)\n",
    "\n",
    "\n",
    "\n",
    "from MilvusControll import MilvusControll\n",
    "from DocumentsWorkers import DocumentsWorkers\n",
    "\n",
    "\n",
    "from Terminal import terminal_write\n",
    "from constants import OPENAI_API_KEY\n",
    "from constants import persist_directory\n",
    "\n",
    "environ['OPENAI_API_KEY']=OPENAI_API_KEY\n",
    "embeddings = OpenAIEmbeddings(model='text-embedding-3-large')\n"
   ]
  },
  {
   "cell_type": "code",
   "execution_count": null,
   "id": "90bf2dd2",
   "metadata": {},
   "outputs": [],
   "source": []
  },
  {
   "cell_type": "code",
   "execution_count": null,
   "id": "a4720986",
   "metadata": {},
   "outputs": [],
   "source": []
  },
  {
   "cell_type": "code",
   "execution_count": null,
   "id": "76bcf019",
   "metadata": {},
   "outputs": [],
   "source": []
  },
  {
   "cell_type": "code",
   "execution_count": null,
   "id": "fa915718",
   "metadata": {},
   "outputs": [],
   "source": []
  },
  {
   "cell_type": "markdown",
   "id": "3a921873",
   "metadata": {},
   "source": [
    "# Сортируем по желанию на документы из всех .txt в указаной директории "
   ]
  },
  {
   "cell_type": "code",
   "execution_count": null,
   "id": "5a7a5c84",
   "metadata": {},
   "outputs": [],
   "source": []
  },
  {
   "cell_type": "code",
   "execution_count": null,
   "id": "748f5da8",
   "metadata": {},
   "outputs": [],
   "source": []
  },
  {
   "cell_type": "code",
   "execution_count": null,
   "id": "b8b67de5",
   "metadata": {},
   "outputs": [],
   "source": []
  },
  {
   "cell_type": "code",
   "execution_count": null,
   "id": "70b2814e",
   "metadata": {},
   "outputs": [],
   "source": []
  },
  {
   "cell_type": "code",
   "execution_count": 2,
   "id": "915d4573",
   "metadata": {},
   "outputs": [],
   "source": [
    "folder_name='docs'"
   ]
  },
  {
   "cell_type": "code",
   "execution_count": 3,
   "id": "327ae680",
   "metadata": {},
   "outputs": [],
   "source": [
    "documents=list(filter(lambda document : '.txt' in document.__dict__['metadata']['source'], DocumentsWorkers.read_folder(folder_path=folder_name)))\n"
   ]
  },
  {
   "cell_type": "code",
   "execution_count": null,
   "id": "86fdd3d6",
   "metadata": {},
   "outputs": [],
   "source": []
  },
  {
   "cell_type": "code",
   "execution_count": null,
   "id": "c764cee2",
   "metadata": {},
   "outputs": [],
   "source": []
  },
  {
   "cell_type": "code",
   "execution_count": 4,
   "id": "6a8f349b",
   "metadata": {},
   "outputs": [
    {
     "name": "stderr",
     "output_type": "stream",
     "text": [
      "\n",
      "KeyboardInterrupt\n",
      "\n"
     ]
    }
   ],
   "source": [
    "\n",
    "documents=DocumentsWorkers.recursive_splitter.split_documents(documents=documents)\n",
    "documents=DocumentsWorkers.documents_filter(documents=documents)\n",
    "vectors=DocumentsWorkers.get_embedding_vectors(documents)\n",
    "data=DocumentsWorkers.documents_to_dict_data(documents=documents, vectors=vectors)\n"
   ]
  },
  {
   "cell_type": "code",
   "execution_count": 24,
   "id": "c2b19578",
   "metadata": {},
   "outputs": [],
   "source": []
  },
  {
   "cell_type": "code",
   "execution_count": null,
   "id": "d4186af6",
   "metadata": {},
   "outputs": [],
   "source": []
  },
  {
   "cell_type": "code",
   "execution_count": null,
   "id": "ccf37bbd",
   "metadata": {},
   "outputs": [],
   "source": []
  },
  {
   "cell_type": "code",
   "execution_count": null,
   "id": "4a221b51",
   "metadata": {},
   "outputs": [],
   "source": []
  },
  {
   "cell_type": "code",
   "execution_count": 36,
   "id": "d30426e5",
   "metadata": {},
   "outputs": [],
   "source": [
    "milvus=MilvusControll(collection_name='docs')"
   ]
  },
  {
   "cell_type": "code",
   "execution_count": 42,
   "id": "bbea21bd",
   "metadata": {},
   "outputs": [],
   "source": [
    "milvus.create_collection()"
   ]
  },
  {
   "cell_type": "code",
   "execution_count": null,
   "id": "a213c480",
   "metadata": {},
   "outputs": [],
   "source": []
  },
  {
   "cell_type": "code",
   "execution_count": null,
   "id": "12c5db84",
   "metadata": {},
   "outputs": [],
   "source": []
  },
  {
   "cell_type": "code",
   "execution_count": 43,
   "id": "0ae30187",
   "metadata": {},
   "outputs": [
    {
     "data": {
      "text/plain": [
       "{'insert_count': 188,\n",
       " 'ids': ['2dc49aef-d63f-4f3b-b7a5-8efd33ec8e06', 'a5986a95-51e9-4a2a-8a73-7f16bd052c2d', '77d20b71-b819-4f77-9679-aa5fad462e94', '13b90263-606e-4072-9799-e464f75d7a0b', '2c5f1414-e9bd-40dc-b556-ebf1a5251f6a', 'ad779b0f-11e0-4fb5-b072-511d488491cc', '806b0695-6b01-475f-9dff-b46f3243c9b4', '91a6a248-c83e-49fa-975b-94dd8109023d', 'f91c1b22-dfbd-40db-83d5-9a02f4658b23', '7a9bb58c-4aab-450e-b843-75ec87b92c76', '933ca2a9-d61b-4d34-aaf7-2b0e4c9336d9', '0b3de069-d006-438a-b371-106ecc746769', 'ba5dba62-1a68-45d2-93be-5b1059f9c313', 'a556f17b-b843-4087-9cd6-a6ae3aee0808', '254623b2-7770-46f8-9208-e1831cc3f07f', 'd08929af-a353-4b01-9d4d-5bc41f26b775', 'b029dce7-7818-4eb0-814e-cb6f536f7022', '8d567554-cf2d-4ebb-995b-0d1b92a51ff0', '603ddda0-73fb-4df1-ad08-5dad5a6810e2', 'a4f36f63-f351-4d38-9787-8c4c5af9bc39', '6d3dff65-c838-43eb-bc57-0cdb4a0b4116', '79deab1d-0125-4713-8795-945bf3c1e168', '321975f2-ccad-493a-9ef4-7bb7c2327fab', 'a08f394d-36eb-4687-a7ea-d9c4cc35201b', '2dae8444-3be4-435c-a506-2f076e217257', '13dbb153-61e1-4c4f-a01e-986c5e04554b', 'b7046ffb-5a5c-4b19-8f1e-acd769f5d433', 'd9b4b27c-7152-496b-876b-7bd2ea73b999', 'ee21f7fe-3a63-4be0-befb-2dae036f9bdf', '0f49421b-4e8e-4cc2-83f4-599e9453922d', '1e3626cc-0fbb-420d-8e40-65ba0032609c', '6c9e84b4-d9bc-4769-b8fd-08d0ab08a0b0', 'ae14c575-5bac-4237-bddd-05d5560de92b', '26bdabb1-a432-4929-88f8-c4e7cc1e3833', '5ac7d0c1-498c-429a-b7ce-90f49740ff8c', 'fc216114-1f75-4e64-9c07-de31569d1187', '4bac359e-9fe0-4da5-9632-205ee5a5771d', '979d539e-8c4f-476f-b2d9-86e2fd8f2920', 'f33ae36f-f785-4ccc-96d3-47c534eb1d93', 'a29a2ed9-49d3-4dce-9ece-d17b9d052ceb', '382a4fa1-846a-4cfe-bcd8-48c231cf8215', '1bf6ed8e-fbb5-4fb5-ac18-4eba595d3598', '0ae76226-2be4-414f-9249-4ddaf9a60883', 'df28f2e8-184a-435a-9742-14afd1d1fb43', '16cd1ec4-ebcc-425c-903a-b5ecd4d1eb4c', '82e31363-8802-41f4-ad54-5afe6169f7ba', '8ecc8eab-e7f1-4bb6-9067-e1616881b07c', '28f1eb71-2be1-4c71-b470-12e73c057126', 'd27db99c-bd82-407d-9093-12b0ccd68cb1', '44dccad2-abdb-4a46-8c08-16638e2ed3af', '5965b13a-ba6f-4882-bc5c-ee018c463bdd', '4c645f0c-370c-4e0e-8996-a3a8a14e5837', '2c80638c-60cc-4917-ba43-221b4a85d5bb', '9a8e1f28-e41c-40d9-808c-df1cfc8f6f5c', 'f22bb59a-0190-4510-8852-4af7e2141da8', 'c5f72478-5554-4dc1-a180-ae11a26b5248', 'f22e81de-fe37-4266-b378-2329b27439a0', '878373c9-236d-4f27-a9fa-0ac215f8ebdd', '7d9622c8-c886-470e-ad7d-f44ab0b62962', '16769f96-0549-43dc-bc72-02133d064484', '935a0f47-f0b9-4b3c-84e7-74ccf44d89fc', 'cc736a74-4f32-48aa-b12f-d7cf1f9c59b3', 'f92c9522-2ba1-48ae-a0fe-cd668490f9b5', '8f08fc78-a8af-41cd-ba79-60971d88b13a', '5af39474-3415-47cf-8bee-85d6021b4aa3', 'b53daa88-6c92-479c-a8b5-d2ba1be551d8', 'd64a1e56-a6f6-4202-8647-bfbef5180f90', '5101275c-be92-428e-b532-0eb59d02e4b2', 'd7a3a203-d13a-483a-ba22-7f37647f4f06', 'f8645903-719b-4d19-aa92-49dffbc5dd26', '38946a29-a7f1-4603-b73d-0e0baf54a654', '85f587db-5879-4bea-ad1b-4455181f71a4', 'f68d0e37-1ee8-4ca3-ba14-0448fcdccee8', 'f0da7f2d-b59d-4b77-bf44-cc5d5e225665', '851522b9-84f8-4a7f-8592-1d192c2e404b', '45def082-1ddc-4e05-b585-b333be71577f', 'ec6900f5-ec18-46c1-8687-31bdc7fa342a', '9ca2f49c-8f5b-4cbe-8856-d73e170aa49f', '61954ea8-bb47-494c-b304-8fe522b14073', 'd0ea0248-d523-4ba6-8357-3e37e6c45b07', '72856a07-c605-4e33-a282-dca79ccb1721', '210415fe-9fe9-4478-ad13-f96c9f8c69f5', 'a60227c7-895c-4be5-a740-b3c58fd0e3e1', 'e9d18b7f-546d-4c56-82bc-4c9752a60c2f', '4db6c3b9-edac-4fea-9755-279bd41d298f', 'b44d9eb5-435e-42e7-bf5c-37a07eddbbcf', '359fb0b5-d504-4af3-8506-6f5e60fa98ae', 'd5c6efb2-50ef-4fe3-8376-dae8816619b6', '7fb2d28e-e1ad-4c32-b689-0a06aa67f56b', 'f5197d1d-7d46-4986-bc52-168e3c69bb37', '80168367-1def-4639-94c2-f3e142611c7e', '846588ba-2fb5-4d48-83f1-c91991ee2e01', 'a812cca6-2be3-407d-bab7-5d5c27e34e99', '60e6dfff-e3c4-42db-b265-db98ff0dea11', '1ce03836-2d79-4746-8da4-52b1b20a34f9', 'b86ceb35-346f-489f-beac-42c58a185c3a', 'a8702f34-e5ed-4c52-967f-964f221f0c18', '84727e82-5322-47aa-81d0-fd6bee14b20f', '7822d1b2-ceba-4469-8d08-f5cef5488a20', '22450290-8985-4b69-bb0e-8b40b5b7f5b3', '6362540e-71c6-423f-9d4d-66719676bd28', 'a21e90b8-a114-47fa-b681-fa56c2f2e955', '3c993dfd-9294-41b6-ac12-4e29cb017fc1', 'c10c9e30-3ae7-43e6-9b36-f1ec738d5667', 'b9b29546-4de5-4abc-9fa2-e1b0b64c0d23', '500b6505-d44f-444f-b22d-639c39f2b58a', '3d2eaf54-aa6a-40f1-8191-5df76cff8a7d', '05b35511-b070-482b-a097-fe73b075bdad', 'feb03c45-1d08-4481-90ab-45d9ab350283', 'b77edc72-ea8c-4c6d-8d00-bef8ee867ec2', '8ac6f90f-de7a-4963-97da-036188a085ff', '3ab24aa0-6876-43ea-a7ac-b8db618399cf', '5ea24825-5a04-4e94-badc-f0a3eeb55ce1', 'f4ef6beb-d8ba-4f1d-af94-0a66f4811d0c', '38b3b019-76de-4f57-b656-655b8e56fc95', 'd3981f95-42e1-4f12-a0a5-f35b08306539', '3a4d606e-cada-4a3a-b72a-1bf6d4713ceb', '8a88a087-9919-4d66-81aa-29887b6bbf9e', '41e4a2d6-67b0-4141-9959-a45b4fad8d36', 'f384df89-497b-47db-8bae-5a6fc3d9b3ed', '52d5733f-8c03-40dc-a717-e6847cdcbe9d', '52643b06-3f08-4c87-95f5-321c9a304394', '7d739764-b661-47fa-884d-9df31f402d30', '873abd4a-40c3-4848-aa80-7df4edac26e5', '6b4bbd4c-ad2b-49c8-95a6-37ed1ffc528e', '22e93321-4fc6-446e-a606-576d93170c12', '29f31e50-68ba-4809-9c50-f8f34fa8cab0', '337c2662-2cf8-4d7a-a072-b0593151886d', '9d891592-93a7-47e5-ab6a-e3bdd2cc5d3d', 'd44c7634-c1e2-4024-a94c-cc94fdc89ad1', 'ec4293e0-8398-4244-94c8-3e8f758df35c', '61ff65d9-d560-43fd-b6db-c1e66d1ae55f', '0b6c8e5c-14d2-4717-bfb6-b9212382c00e', '4cfd8a44-0a14-423e-98d8-1e06f84683d8', '00a8a4a3-be9d-43c8-8b7a-e33dcf7eebb7', 'f2fb8fc5-b918-419a-b1f3-4bfd81b9f0c1', 'da9560c4-d709-462f-8a8f-e569cd65f13f', 'ae7e61d5-89f3-4d9b-8400-5ee918acbcc5', '4cad3181-c83f-4e8f-90b0-4d34ec1af20f', '893ca798-3ca5-4486-bb57-9443d041e2a4', '8a324790-621c-47fb-a5d9-efe23306fb3b', '5a1221e8-e0de-4aa3-b32a-43463ddf252e', 'd3c588a6-7620-427f-b949-f9066665625e', '55c98376-3e84-4bcf-a142-288563ef807e', '23186fb5-f63e-4588-a007-cebcd4a926e8', 'c4fab5f4-fc3a-4c04-8fcb-46d2ccd041f8', '6e7d9cf3-5014-485f-b637-82c4344673e5', 'bd455396-2773-40e1-a7a4-61d11737f526', '4260f4ba-d0fa-4c1e-ac06-225c9767de53', '9aed1e89-d5b9-4311-a473-f63880af7728', 'b82e61bd-6ccf-4693-9002-619d254d67fb', '825968d3-e7bd-474c-af81-f52f98f33280', 'da082949-4116-4fe4-8f0b-67eb5319126b', 'a7d0fb87-5410-4bea-9d06-52819f31bfe6', '6185d465-419e-4fdd-8cf2-96b22bcbf614', '614b01cf-ab8b-4b9a-a391-2d1cf59dce60', 'c5df4119-d6f8-42d2-8829-a3c4d879cef8', '3022c00a-80ae-4dd5-b2c6-79df09f60c2b', '7b5cfb91-fffd-4ff4-88d0-08c651737bbe', '51f05973-457d-45d6-aec7-279505686920', '2edcf065-6d47-488e-b3f7-7b011a9fd31f', '8cd929ed-364a-4081-80ff-9a3b23703ff8', '7e3e8c92-b1ef-4a2a-aac0-c0f77090724a', '05efc3da-2dd0-483d-8b7b-115fe30ca7c6', 'b7fbfaf6-ac71-44a0-9704-19846f23654a', 'd157ddd4-c6d3-4756-9dc7-f596d5ae50d8', 'dce8554b-31a8-495a-9d8e-9c2d1a3aa25c', 'c649eecf-cc19-456e-afff-57448ad70668', 'ce91ba12-baa0-4f7a-be71-1ab53ce09bbc', '5b7c9d56-270b-4d18-a932-e478c88f7be7', '3a6818be-eb5e-47b6-966c-fd07d0971c4b', 'bf0cba88-ce88-4191-8e3f-e52396e7f746', '1df84f25-f21b-40db-b7bf-25bc77b38819', '529d9d01-3965-4d03-853d-9ec28d951083', 'b1b2aa9e-360c-4b50-8ebd-d7420c751545', 'b7fa7265-908d-4957-a91e-f7534559de6c', '7f1f3d03-8524-4acc-a226-dbef6ff2b0bd', '5d884470-23f7-4238-bb08-0942c372f087', 'fc533491-8e57-4542-a4db-b75d2a0598f4', '95d22070-b6ee-4cf1-bef9-cf75285e97a4', 'e791e736-3563-46d4-b7df-1ffa630464f3', 'c7782ac3-f299-4861-8059-025842eee2df', 'f10f3e6c-13b7-459b-ba8d-96edffe75e12', '309ca909-7c60-421b-bd88-1f1185feb188', '4ac31d36-949d-4e2b-89c7-f2641a8d479c', '1c2bbb13-5f4c-470e-a5f2-1b63097a655d', 'ca1516df-33ac-40ac-98e6-9ed89976d7ad', '1e57d019-d0b5-4f00-9055-88e7bad6af35']}"
      ]
     },
     "execution_count": 43,
     "metadata": {},
     "output_type": "execute_result"
    }
   ],
   "source": [
    "milvus.client.insert(collection_name='docs',\n",
    "                     data=data)\n",
    "    "
   ]
  },
  {
   "cell_type": "code",
   "execution_count": null,
   "id": "63094c61",
   "metadata": {},
   "outputs": [],
   "source": []
  },
  {
   "cell_type": "code",
   "execution_count": null,
   "id": "11e0c687",
   "metadata": {},
   "outputs": [],
   "source": []
  },
  {
   "cell_type": "code",
   "execution_count": 48,
   "id": "577aa799",
   "metadata": {},
   "outputs": [],
   "source": [
    "context=milvus.similarity_search(text='what 132',limit=5)"
   ]
  },
  {
   "cell_type": "code",
   "execution_count": 57,
   "id": "b41c68e5",
   "metadata": {},
   "outputs": [
    {
     "data": {
      "text/plain": [
       "[None, 1, 2, None, None]"
      ]
     },
     "execution_count": 57,
     "metadata": {},
     "output_type": "execute_result"
    }
   ],
   "source": [
    "[index if 'School 125' in context[index]['text'] else None for index in range(len(context))]"
   ]
  },
  {
   "cell_type": "code",
   "execution_count": null,
   "id": "149dbec1",
   "metadata": {},
   "outputs": [],
   "source": []
  },
  {
   "cell_type": "code",
   "execution_count": null,
   "id": "d8f3dbc9",
   "metadata": {},
   "outputs": [],
   "source": [
    "milvus.client.get()"
   ]
  },
  {
   "cell_type": "code",
   "execution_count": null,
   "id": "ae6c6923",
   "metadata": {},
   "outputs": [],
   "source": []
  },
  {
   "cell_type": "code",
   "execution_count": null,
   "id": "920636b5",
   "metadata": {},
   "outputs": [],
   "source": []
  },
  {
   "cell_type": "code",
   "execution_count": null,
   "id": "11a77d14",
   "metadata": {},
   "outputs": [],
   "source": []
  },
  {
   "cell_type": "code",
   "execution_count": 68,
   "id": "9aeb9255",
   "metadata": {},
   "outputs": [
    {
     "data": {
      "text/plain": [
       "['Ренар Лариса\\nКруг женской силы. Энергии стихий и тайны обольщения',\n",
       " 'Эта книга посвящается моим учителям — Светлане Дмитриевне Токтон, хранительнице древних знаний исчезнувшего континента My, научившей меня большинству женских практик; Алисии, передавшей мне северо-американскую традицию; Виргинии, открывшей мне тайны суфийской традиции и многим другим, кто посвятил свою жизнь раскрытию женской силы и поиску бесценных знаний. Эта книга посвящается всем ученицам и преподавателям «Академии частной жизни», и я благодарна миру за каждую встречу. Сколько волшебных и захватывающих часов мы провели вместе. Мы учились и менялись вместе и до сих пор многие с нами.',\n",
       " 'Эта книга посвящается преподавателям петербургской «Академии частной жизни» — Ларисе Соколовой, Ольге Михайловой, Наталье Максимовой, а также основателям и преподавателям московской «Школы женских искусств» — Жене и Олегу Фроловым, Марианне, Ольге и др., которые каждый день делают этот мир лучше и добрее и наполняют его любовью.\\n   Эта книга посвящается моим любимым подругам — Наталье Диманис, Елене Михайловой, Ольге Боголюбовой, которые всегда верят в меня и поддерживают все мои авантюры.',\n",
       " 'И конечно, моей семье — моей сногсшибательной маме, моему умнейшему и творческому папе. Но самое главное, моему мужу, который почти двадцать лет открывает во мне самое лучшее, помогает во всех проектах, учит меня мудрости и любви.',\n",
       " 'Я очень благодарна моему издателю Марии Смирновой, готовой пробовать новые и необычные проекты; редактору Елизавете Зверевой, придавшей шарм и законченность моей книге; Веронике Юркус, создавшей изысканный фильм, дающий возможность увидеть и повторить практики, и Юлии Джурииской, нашему директору по маркетингу, умеющей виртуозно воплощать в жизнь все наши творческие идеи.']"
      ]
     },
     "execution_count": 68,
     "metadata": {},
     "output_type": "execute_result"
    }
   ],
   "source": []
  },
  {
   "cell_type": "code",
   "execution_count": null,
   "id": "ae218fd0",
   "metadata": {},
   "outputs": [],
   "source": []
  },
  {
   "cell_type": "code",
   "execution_count": null,
   "id": "e661acc4",
   "metadata": {},
   "outputs": [],
   "source": []
  },
  {
   "cell_type": "code",
   "execution_count": null,
   "id": "0629e83b",
   "metadata": {},
   "outputs": [],
   "source": []
  },
  {
   "cell_type": "code",
   "execution_count": null,
   "id": "adc97334",
   "metadata": {},
   "outputs": [],
   "source": []
  },
  {
   "cell_type": "code",
   "execution_count": 74,
   "id": "2d64dfec",
   "metadata": {},
   "outputs": [],
   "source": [
    "vectorstore=Chroma.from_documents(documents=documents[-5:], \n",
    "                      embedding=OpenAIEmbeddings(api_key=OPENAI_API_KEY),\n",
    "                     persist_directory=persist_directory)"
   ]
  },
  {
   "cell_type": "code",
   "execution_count": 76,
   "id": "711e408c",
   "metadata": {},
   "outputs": [
    {
     "data": {
      "text/plain": [
       "VectorStoreRetriever(tags=['Chroma', 'OpenAIEmbeddings'], vectorstore=<langchain_community.vectorstores.chroma.Chroma object at 0x7cbfd6f1a190>, search_kwargs={'k': 5})"
      ]
     },
     "execution_count": 76,
     "metadata": {},
     "output_type": "execute_result"
    }
   ],
   "source": [
    "vectorstore.as_retriever(search_kwargs=dict(k=5))"
   ]
  },
  {
   "cell_type": "code",
   "execution_count": null,
   "id": "27d53d56",
   "metadata": {},
   "outputs": [],
   "source": []
  },
  {
   "cell_type": "code",
   "execution_count": null,
   "id": "6b3a4aef",
   "metadata": {},
   "outputs": [],
   "source": []
  },
  {
   "cell_type": "code",
   "execution_count": null,
   "id": "1e078392",
   "metadata": {},
   "outputs": [],
   "source": []
  },
  {
   "cell_type": "code",
   "execution_count": null,
   "id": "83cfb956",
   "metadata": {},
   "outputs": [],
   "source": []
  },
  {
   "cell_type": "code",
   "execution_count": 77,
   "id": "bfa1ec50",
   "metadata": {
    "scrolled": false
   },
   "outputs": [
    {
     "data": {
      "text/plain": [
       "[Document(metadata={'source': 'docs/1.txt'}, page_content='Увы, дорогие мои читательницы, я не могу все время быть рядом с вами, разоблачая лживые оправдания и ограждая вас от недостойных мужчин. Зато я могу нарисовать вам картину того, чего точно не случится в отношениях с мужчиной, который вас любит и ценит. Вы никогда не будете сидеть, отчаянно уставившись на телефон и усилием воли заставляя его зазвонить. Вы не станете портить себе встречу с подругами, каждые пятнадцать секунд проверяя входящие SMS. Вы не будете корить себя за то, что все же позвонили ему, хотя этого делать не следовало. А вот что выувидите– так это такое хорошее отношение к себе, что вам не понадобятся все эти телефонные ужимки и прыжки. Вы будете купаться в море нежности и внимания.Грег'),\n",
       " Document(metadata={'source': 'docs/1.txt'}, page_content='[Картинка: i_005.png] \\xa0ВСЕ ТАК ПРОСТО'),\n",
       " Document(metadata={'source': 'docs/1.txt'}, page_content='А сейчас я выведу возмутительное, радикальное и суровое правило отношений: слово «занят» – чушь собачья, и чаще всего его используют ублюдки. В романтических отношениях слово «занят» – это оружие массового поражения. Помни: у мужчины всегда найдется время, чтобы сделать то, что он действительно хочет.\\n   –\\xa0Грег'),\n",
       " Document(metadata={'source': 'docs/1.txt'}, page_content='[Картинка: i_004.png] \\xa0ВОТ ПОЧЕМУ ЭТО ТРУДНО\\n   Мы не дурочки, мы все понимаем. Мы знаем, что мужчины должны быть внимательными, заботливыми и нежными. Мы понимаем, что они должны звонить нам, если пообещали. И наверняка мы способны догадаться, что они о нас думают. Ха!')]"
      ]
     },
     "execution_count": 77,
     "metadata": {},
     "output_type": "execute_result"
    }
   ],
   "source": [
    "vectorstore.similarity_search('what 132')"
   ]
  },
  {
   "cell_type": "code",
   "execution_count": null,
   "id": "30c9ddd1",
   "metadata": {},
   "outputs": [],
   "source": []
  },
  {
   "cell_type": "code",
   "execution_count": null,
   "id": "9ebcf5a6",
   "metadata": {},
   "outputs": [],
   "source": []
  },
  {
   "cell_type": "code",
   "execution_count": null,
   "id": "fbbd032e",
   "metadata": {},
   "outputs": [],
   "source": []
  },
  {
   "cell_type": "code",
   "execution_count": null,
   "id": "2edd9060",
   "metadata": {},
   "outputs": [],
   "source": []
  },
  {
   "cell_type": "code",
   "execution_count": null,
   "id": "48584424",
   "metadata": {},
   "outputs": [],
   "source": []
  },
  {
   "cell_type": "code",
   "execution_count": 109,
   "id": "f289ba65",
   "metadata": {},
   "outputs": [],
   "source": []
  },
  {
   "cell_type": "code",
   "execution_count": null,
   "id": "c7a0d399",
   "metadata": {},
   "outputs": [],
   "source": []
  },
  {
   "cell_type": "code",
   "execution_count": 6,
   "id": "d936ab2f",
   "metadata": {},
   "outputs": [],
   "source": [
    "vectorstore = Milvus(collection_name=\"docs\", embedding_function=DocumentsWorkers.embeddings)"
   ]
  },
  {
   "cell_type": "code",
   "execution_count": 7,
   "id": "24d6b379",
   "metadata": {},
   "outputs": [
    {
     "data": {
      "text/plain": [
       "[Document(metadata={'id': 'f33ae36f-f785-4ccc-96d3-47c534eb1d93', 'source': 'docs/school_informations.txt'}, page_content='School 130|||Armenia, Yerevan, Hakob Hakobyan St. Lane, 3 Building (Arabkir adm. district)\\nSchool 131|||Armenia, Yerevan, Arzumanyan St., 22 Building (Ajapnyak adm. district)\\nSchool 132|||Armenia, Yerevan, Aram Khachatryan St., 28 Building (Arabkir adm. district)\\nSchool 133|||Armenia, Yerevan, Nor Nork 2nd Block, Moldovakan St., 35 Building (Nor Nork adm. district)\\nSchool 134|||Armenia, Yerevan, Nor Nork 1st Block, Nanseni St., 14 Building (Nor Nork adm. district)'),\n",
       " Document(metadata={'id': 'a29a2ed9-49d3-4dce-9ece-d17b9d052ceb', 'source': 'docs/school_informations.txt'}, page_content='School 134|||Armenia, Yerevan, Nor Nork 1st Block, Nanseni St., 14 Building (Nor Nork adm. district)\\nSchool 135|||Armenia, Yerevan, Nor Nork 2nd Block, Nelson Stepanyan St., 5 Building (Nor Nork adm. district)\\nSchool 136|||Armenia, Yerevan, Lepsiusi St., 6 Building (Kanaker-Zeytun adm. district)\\nSchool 137|||Armenia, Yerevan, Tarontsu St., 17 Building (Shengavit adm. district)\\nSchool 138|||Armenia, Yerevan, Margaryan St., 30a Building (Ajapnyak adm. district)'),\n",
       " Document(metadata={'id': '979d539e-8c4f-476f-b2d9-86e2fd8f2920', 'source': 'docs/school_informations.txt'}, page_content='School 125|||Armenia, Yerevan, Paruyr Sevaki St., 89 Building (Kanaker-Zeytun adm. district)\\nSchool 126|||Armenia, Yerevan, Estonakan St., 8a Building (Ajapnyak adm. district)\\nSchool 128|||Armenia, Yerevan, Azatutyan Ave., 5 Building (Arabkir adm. district)\\nSchool 129|||Armenia, Yerevan, Hrachya Kochari St., 29 Building (Arabkir adm. district)\\nSchool 130|||Armenia, Yerevan, Hakob Hakobyan St. Lane, 3 Building (Arabkir adm. district)'),\n",
       " Document(metadata={'id': '4bac359e-9fe0-4da5-9632-205ee5a5771d', 'source': 'docs/school_informations.txt'}, page_content='School 121|||Armenia, Yerevan, Tichinai St. 2nd Lane, 121 Building (Malatia-Sebastia adm. district)\\nSchool 122|||Armenia, Yerevan, Arzumanyan St., 5 Building (Ajapnyak adm. district)\\nSchool 123|||Armenia, Yerevan, Nor Aresh, 35th St., 2 Building (Erebuni adm. district)\\nSchool 124|||Armenia, Yerevan, Acharyan St. 1st Blind Alley, 15 Building (Avan adm. district)\\nSchool 125|||Armenia, Yerevan, Paruyr Sevaki St., 89 Building (Kanaker-Zeytun adm. district)'),\n",
       " Document(metadata={'id': '382a4fa1-846a-4cfe-bcd8-48c231cf8215', 'source': 'docs/school_informations.txt'}, page_content='School 138|||Armenia, Yerevan, Margaryan St., 30a Building (Ajapnyak adm. district)\\nSchool 140|||Armenia, Yerevan, Noragavit, 1st St., 99 House (Shengavit adm. district)\\nSchool 141|||Armenia, Yerevan, Nor Nork 4th Block, Gyulikekhvyan St., 27 Building (Nor Nork adm. district)\\nSchool 143|||Armenia, Yerevan, Nor Nork 3rd Block, Baghyan St., 5 Building (Nor Nork adm. district)\\nSchool 144|||Armenia, Yerevan, Verin Shengavit, 2nd St., 9 Building (Shengavit adm. district)')]"
      ]
     },
     "execution_count": 7,
     "metadata": {},
     "output_type": "execute_result"
    }
   ],
   "source": [
    "\n",
    "\n",
    "vectorstore.as_retriever(search_kwargs={'k':5}).invoke(\"what 132\")\n"
   ]
  },
  {
   "cell_type": "code",
   "execution_count": null,
   "id": "b9b818f7",
   "metadata": {},
   "outputs": [],
   "source": []
  },
  {
   "cell_type": "code",
   "execution_count": null,
   "id": "2634fe69",
   "metadata": {},
   "outputs": [],
   "source": []
  },
  {
   "cell_type": "code",
   "execution_count": null,
   "id": "8c66ce36",
   "metadata": {},
   "outputs": [],
   "source": []
  },
  {
   "cell_type": "code",
   "execution_count": null,
   "id": "0803f3cb",
   "metadata": {},
   "outputs": [],
   "source": []
  }
 ],
 "metadata": {
  "kernelspec": {
   "display_name": "Python 3 (ipykernel)",
   "language": "python",
   "name": "python3"
  },
  "language_info": {
   "codemirror_mode": {
    "name": "ipython",
    "version": 3
   },
   "file_extension": ".py",
   "mimetype": "text/x-python",
   "name": "python",
   "nbconvert_exporter": "python",
   "pygments_lexer": "ipython3",
   "version": "3.11.9"
  }
 },
 "nbformat": 4,
 "nbformat_minor": 5
}
